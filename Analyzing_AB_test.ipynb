{
 "cells": [
  {
   "cell_type": "markdown",
   "metadata": {},
   "source": [
    "# Analyze an A/B test from the popular mobile puzzle game, Cookie Cats.\n",
    "\n",
    "# About\n",
    "\n",
    "Cookie Cats is a hugely popular mobile puzzle game developed by Tactile Entertainment. It's a classic \"connect three\"-style puzzle game where the player must connect tiles of the same color to clear the board and win the level. Check out this short demo:\n",
    "\n",
    "<a href=\"https://www.youtube.com/watch?v=GaP5f0jVTWE&ab_channel=TactileGames\">\n",
    "    <img alt=\"video\" src=\"img/cookie_cats_video.jpeg\"\n",
    "    width=50% height=50%>\n",
    "</a>\n",
    "\n",
    "As players progress through the levels of the game, they will occasionally encounter gates that force them to wait a non-trivial amount of time or make an in-app purchase to progress. In addition to driving in-app purchases, these gates serve the important purpose of giving players an enforced break from playing the game, hopefully resulting in that the player's enjoyment of the game being increased and prolonged.\n",
    "\n",
    "<img src=\"img/cc_gates.png\" width=60% height=60% align=center>\n",
    "\n",
    "\n",
    "But where should the gates be placed? Initially the first gate was placed at level 30, but in this notebook we're going to analyze an AB-test where we moved the first gate in Cookie Cats from level 30 to level 40. In particular, we will look at the impact on player retention.\n",
    "\n",
    "## Data\n",
    "The DataFrame contains 90189 rows, each representing a user session.\n",
    "We also have 5 columns:\n",
    "\n",
    "* `userid`:  A unique number that identifies each player.\n",
    "* `version` : Whether the player was put in the control group (gate_30 - a gate at level 30) or the group with the moved gate (gate_40 - a gate at level 40)\n",
    "* `sum_gamerounds` : The number of game rounds played by the player during the first 14 days after install.\n",
    "* `retention_1` : Did the player come back and play 1 day after installing?\n",
    "* `retention_7` : Did the player come back and play 7 days after installing?\n",
    "\n",
    "When a player installed the game, he or she was randomly assigned to either `gate_30` or `gate_40`. As a sanity check, let's see if there are roughly the same number of players in each AB group.\n",
    "\n",
    "<img src=\"img/df.png\" width=60% height=60% align=center>\n",
    "\n",
    "\n",
    "\n",
    "## Pipeline\n",
    "* Understanding the Data\n",
    "* Normality Test\n",
    "* Remove Outliers\n",
    "* Testing `retention_1`\n",
    "* Testing `retention_7`\n",
    "* Testing `sum_gamerounds`\n",
    "* Conclusion"
   ]
  },
  {
   "cell_type": "markdown",
   "metadata": {},
   "source": [
    "# Understanding Data"
   ]
  },
  {
   "cell_type": "code",
   "execution_count": 1,
   "metadata": {},
   "outputs": [],
   "source": [
    "import numpy as np\n",
    "import pandas as pd\n",
    "import scipy.stats as stats\n",
    "from scipy.stats import sem, zscore\n",
    "import statsmodels.stats.api as sms\n",
    "import matplotlib as mpl\n",
    "import matplotlib.pyplot as plt\n",
    "import seaborn as sns\n",
    "from math import ceil\n",
    "from numpy import std, mean, sqrt\n",
    "import seaborn as sns\n",
    "from statsmodels.stats.proportion import proportions_ztest, proportion_confint\n"
   ]
  },
  {
   "cell_type": "code",
   "execution_count": 12,
   "metadata": {},
   "outputs": [
    {
     "data": {
      "text/html": [
       "<div>\n",
       "<style scoped>\n",
       "    .dataframe tbody tr th:only-of-type {\n",
       "        vertical-align: middle;\n",
       "    }\n",
       "\n",
       "    .dataframe tbody tr th {\n",
       "        vertical-align: top;\n",
       "    }\n",
       "\n",
       "    .dataframe thead th {\n",
       "        text-align: right;\n",
       "    }\n",
       "</style>\n",
       "<table border=\"1\" class=\"dataframe\">\n",
       "  <thead>\n",
       "    <tr style=\"text-align: right;\">\n",
       "      <th></th>\n",
       "      <th>userid</th>\n",
       "      <th>version</th>\n",
       "      <th>sum_gamerounds</th>\n",
       "      <th>retention_1</th>\n",
       "      <th>retention_7</th>\n",
       "    </tr>\n",
       "  </thead>\n",
       "  <tbody>\n",
       "    <tr>\n",
       "      <th>0</th>\n",
       "      <td>116</td>\n",
       "      <td>gate_30</td>\n",
       "      <td>3</td>\n",
       "      <td>False</td>\n",
       "      <td>False</td>\n",
       "    </tr>\n",
       "    <tr>\n",
       "      <th>1</th>\n",
       "      <td>337</td>\n",
       "      <td>gate_30</td>\n",
       "      <td>38</td>\n",
       "      <td>True</td>\n",
       "      <td>False</td>\n",
       "    </tr>\n",
       "    <tr>\n",
       "      <th>2</th>\n",
       "      <td>377</td>\n",
       "      <td>gate_40</td>\n",
       "      <td>165</td>\n",
       "      <td>True</td>\n",
       "      <td>False</td>\n",
       "    </tr>\n",
       "    <tr>\n",
       "      <th>3</th>\n",
       "      <td>483</td>\n",
       "      <td>gate_40</td>\n",
       "      <td>1</td>\n",
       "      <td>False</td>\n",
       "      <td>False</td>\n",
       "    </tr>\n",
       "    <tr>\n",
       "      <th>4</th>\n",
       "      <td>488</td>\n",
       "      <td>gate_40</td>\n",
       "      <td>179</td>\n",
       "      <td>True</td>\n",
       "      <td>True</td>\n",
       "    </tr>\n",
       "    <tr>\n",
       "      <th>...</th>\n",
       "      <td>...</td>\n",
       "      <td>...</td>\n",
       "      <td>...</td>\n",
       "      <td>...</td>\n",
       "      <td>...</td>\n",
       "    </tr>\n",
       "    <tr>\n",
       "      <th>90184</th>\n",
       "      <td>9999441</td>\n",
       "      <td>gate_40</td>\n",
       "      <td>97</td>\n",
       "      <td>True</td>\n",
       "      <td>False</td>\n",
       "    </tr>\n",
       "    <tr>\n",
       "      <th>90185</th>\n",
       "      <td>9999479</td>\n",
       "      <td>gate_40</td>\n",
       "      <td>30</td>\n",
       "      <td>False</td>\n",
       "      <td>False</td>\n",
       "    </tr>\n",
       "    <tr>\n",
       "      <th>90186</th>\n",
       "      <td>9999710</td>\n",
       "      <td>gate_30</td>\n",
       "      <td>28</td>\n",
       "      <td>True</td>\n",
       "      <td>False</td>\n",
       "    </tr>\n",
       "    <tr>\n",
       "      <th>90187</th>\n",
       "      <td>9999768</td>\n",
       "      <td>gate_40</td>\n",
       "      <td>51</td>\n",
       "      <td>True</td>\n",
       "      <td>False</td>\n",
       "    </tr>\n",
       "    <tr>\n",
       "      <th>90188</th>\n",
       "      <td>9999861</td>\n",
       "      <td>gate_40</td>\n",
       "      <td>16</td>\n",
       "      <td>False</td>\n",
       "      <td>False</td>\n",
       "    </tr>\n",
       "  </tbody>\n",
       "</table>\n",
       "<p>90189 rows × 5 columns</p>\n",
       "</div>"
      ],
      "text/plain": [
       "        userid  version  sum_gamerounds  retention_1  retention_7\n",
       "0          116  gate_30               3        False        False\n",
       "1          337  gate_30              38         True        False\n",
       "2          377  gate_40             165         True        False\n",
       "3          483  gate_40               1        False        False\n",
       "4          488  gate_40             179         True         True\n",
       "...        ...      ...             ...          ...          ...\n",
       "90184  9999441  gate_40              97         True        False\n",
       "90185  9999479  gate_40              30        False        False\n",
       "90186  9999710  gate_30              28         True        False\n",
       "90187  9999768  gate_40              51         True        False\n",
       "90188  9999861  gate_40              16        False        False\n",
       "\n",
       "[90189 rows x 5 columns]"
      ]
     },
     "execution_count": 12,
     "metadata": {},
     "output_type": "execute_result"
    }
   ],
   "source": [
    "dataset = pd.read_csv('cookie_cats.csv')\n",
    "dataset"
   ]
  },
  {
   "cell_type": "code",
   "execution_count": 13,
   "metadata": {},
   "outputs": [
    {
     "name": "stdout",
     "output_type": "stream",
     "text": [
      "<class 'pandas.core.frame.DataFrame'>\n",
      "RangeIndex: 90189 entries, 0 to 90188\n",
      "Data columns (total 5 columns):\n",
      " #   Column          Non-Null Count  Dtype \n",
      "---  ------          --------------  ----- \n",
      " 0   userid          90189 non-null  int64 \n",
      " 1   version         90189 non-null  object\n",
      " 2   sum_gamerounds  90189 non-null  int64 \n",
      " 3   retention_1     90189 non-null  bool  \n",
      " 4   retention_7     90189 non-null  bool  \n",
      "dtypes: bool(2), int64(2), object(1)\n",
      "memory usage: 2.2+ MB\n"
     ]
    }
   ],
   "source": [
    "dataset.info()"
   ]
  },
  {
   "cell_type": "code",
   "execution_count": 14,
   "metadata": {},
   "outputs": [
    {
     "name": "stdout",
     "output_type": "stream",
     "text": [
      "0\n",
      "there is no user that would have played on both versions\n"
     ]
    }
   ],
   "source": [
    "print(dataset['userid'].duplicated().sum()) \n",
    "print(\"there is no user that would have played on both versions\")"
   ]
  },
  {
   "cell_type": "code",
   "execution_count": 15,
   "metadata": {},
   "outputs": [
    {
     "data": {
      "text/plain": [
       "gate_40    45489\n",
       "gate_30    44700\n",
       "Name: version, dtype: int64"
      ]
     },
     "metadata": {},
     "output_type": "display_data"
    },
    {
     "name": "stdout",
     "output_type": "stream",
     "text": [
      "-----\n",
      "There are roughly as many users on both versions which is a good thing for our analysis\n"
     ]
    }
   ],
   "source": [
    "display(dataset['version'].value_counts())\n",
    "print('-----')\n",
    "print('There are roughly as many users on both versions which is a good thing for our analysis')"
   ]
  },
  {
   "cell_type": "code",
   "execution_count": 16,
   "metadata": {},
   "outputs": [
    {
     "data": {
      "text/html": [
       "<style  type=\"text/css\" >\n",
       "</style><table id=\"T_eda45332_d4e4_11eb_85be_a45e60d1c32b\" ><thead>    <tr>        <th class=\"blank level0\" ></th>        <th class=\"col_heading level0 col0\" >mean</th>        <th class=\"col_heading level0 col1\" >std</th>        <th class=\"col_heading level0 col2\" >standard error of the mean</th>        <th class=\"col_heading level0 col3\" >min</th>        <th class=\"col_heading level0 col4\" >max</th>    </tr>    <tr>        <th class=\"index_name level0\" >version</th>        <th class=\"blank\" ></th>        <th class=\"blank\" ></th>        <th class=\"blank\" ></th>        <th class=\"blank\" ></th>        <th class=\"blank\" ></th>    </tr></thead><tbody>\n",
       "                <tr>\n",
       "                        <th id=\"T_eda45332_d4e4_11eb_85be_a45e60d1c32blevel0_row0\" class=\"row_heading level0 row0\" >gate_30</th>\n",
       "                        <td id=\"T_eda45332_d4e4_11eb_85be_a45e60d1c32brow0_col0\" class=\"data row0 col0\" >52.456</td>\n",
       "                        <td id=\"T_eda45332_d4e4_11eb_85be_a45e60d1c32brow0_col1\" class=\"data row0 col1\" >256.716</td>\n",
       "                        <td id=\"T_eda45332_d4e4_11eb_85be_a45e60d1c32brow0_col2\" class=\"data row0 col2\" >1.214</td>\n",
       "                        <td id=\"T_eda45332_d4e4_11eb_85be_a45e60d1c32brow0_col3\" class=\"data row0 col3\" >0.000</td>\n",
       "                        <td id=\"T_eda45332_d4e4_11eb_85be_a45e60d1c32brow0_col4\" class=\"data row0 col4\" >49854.000</td>\n",
       "            </tr>\n",
       "            <tr>\n",
       "                        <th id=\"T_eda45332_d4e4_11eb_85be_a45e60d1c32blevel0_row1\" class=\"row_heading level0 row1\" >gate_40</th>\n",
       "                        <td id=\"T_eda45332_d4e4_11eb_85be_a45e60d1c32brow1_col0\" class=\"data row1 col0\" >51.299</td>\n",
       "                        <td id=\"T_eda45332_d4e4_11eb_85be_a45e60d1c32brow1_col1\" class=\"data row1 col1\" >103.294</td>\n",
       "                        <td id=\"T_eda45332_d4e4_11eb_85be_a45e60d1c32brow1_col2\" class=\"data row1 col2\" >0.484</td>\n",
       "                        <td id=\"T_eda45332_d4e4_11eb_85be_a45e60d1c32brow1_col3\" class=\"data row1 col3\" >0.000</td>\n",
       "                        <td id=\"T_eda45332_d4e4_11eb_85be_a45e60d1c32brow1_col4\" class=\"data row1 col4\" >2640.000</td>\n",
       "            </tr>\n",
       "    </tbody></table>"
      ],
      "text/plain": [
       "<pandas.io.formats.style.Styler at 0x7fd09fb67eb0>"
      ]
     },
     "metadata": {},
     "output_type": "display_data"
    },
    {
     "name": "stdout",
     "output_type": "stream",
     "text": [
      "The sum_gamerounds looks slightly higher for the version gate 30, however we did not check for outliers yet\n"
     ]
    },
    {
     "data": {
      "text/html": [
       "<style  type=\"text/css\" >\n",
       "</style><table id=\"T_edaafca0_d4e4_11eb_85be_a45e60d1c32b\" ><thead>    <tr>        <th class=\"blank level0\" ></th>        <th class=\"col_heading level0 col0\" >mean</th>        <th class=\"col_heading level0 col1\" >std</th>        <th class=\"col_heading level0 col2\" >standard error of the mean</th>    </tr>    <tr>        <th class=\"index_name level0\" >version</th>        <th class=\"blank\" ></th>        <th class=\"blank\" ></th>        <th class=\"blank\" ></th>    </tr></thead><tbody>\n",
       "                <tr>\n",
       "                        <th id=\"T_edaafca0_d4e4_11eb_85be_a45e60d1c32blevel0_row0\" class=\"row_heading level0 row0\" >gate_30</th>\n",
       "                        <td id=\"T_edaafca0_d4e4_11eb_85be_a45e60d1c32brow0_col0\" class=\"data row0 col0\" >0.448</td>\n",
       "                        <td id=\"T_edaafca0_d4e4_11eb_85be_a45e60d1c32brow0_col1\" class=\"data row0 col1\" >0.497</td>\n",
       "                        <td id=\"T_edaafca0_d4e4_11eb_85be_a45e60d1c32brow0_col2\" class=\"data row0 col2\" >0.002</td>\n",
       "            </tr>\n",
       "            <tr>\n",
       "                        <th id=\"T_edaafca0_d4e4_11eb_85be_a45e60d1c32blevel0_row1\" class=\"row_heading level0 row1\" >gate_40</th>\n",
       "                        <td id=\"T_edaafca0_d4e4_11eb_85be_a45e60d1c32brow1_col0\" class=\"data row1 col0\" >0.442</td>\n",
       "                        <td id=\"T_edaafca0_d4e4_11eb_85be_a45e60d1c32brow1_col1\" class=\"data row1 col1\" >0.497</td>\n",
       "                        <td id=\"T_edaafca0_d4e4_11eb_85be_a45e60d1c32brow1_col2\" class=\"data row1 col2\" >0.002</td>\n",
       "            </tr>\n",
       "    </tbody></table>"
      ],
      "text/plain": [
       "<pandas.io.formats.style.Styler at 0x7fd0a64d1a00>"
      ]
     },
     "metadata": {},
     "output_type": "display_data"
    },
    {
     "name": "stdout",
     "output_type": "stream",
     "text": [
      "The retention looks slightly higher for the version gate 30, however we did not check for outliers yet\n"
     ]
    },
    {
     "data": {
      "text/html": [
       "<style  type=\"text/css\" >\n",
       "</style><table id=\"T_edb3600c_d4e4_11eb_85be_a45e60d1c32b\" ><thead>    <tr>        <th class=\"blank level0\" ></th>        <th class=\"col_heading level0 col0\" >mean</th>        <th class=\"col_heading level0 col1\" >std</th>        <th class=\"col_heading level0 col2\" >standard error of the mean</th>    </tr>    <tr>        <th class=\"index_name level0\" >version</th>        <th class=\"blank\" ></th>        <th class=\"blank\" ></th>        <th class=\"blank\" ></th>    </tr></thead><tbody>\n",
       "                <tr>\n",
       "                        <th id=\"T_edb3600c_d4e4_11eb_85be_a45e60d1c32blevel0_row0\" class=\"row_heading level0 row0\" >gate_30</th>\n",
       "                        <td id=\"T_edb3600c_d4e4_11eb_85be_a45e60d1c32brow0_col0\" class=\"data row0 col0\" >0.190</td>\n",
       "                        <td id=\"T_edb3600c_d4e4_11eb_85be_a45e60d1c32brow0_col1\" class=\"data row0 col1\" >0.392</td>\n",
       "                        <td id=\"T_edb3600c_d4e4_11eb_85be_a45e60d1c32brow0_col2\" class=\"data row0 col2\" >0.002</td>\n",
       "            </tr>\n",
       "            <tr>\n",
       "                        <th id=\"T_edb3600c_d4e4_11eb_85be_a45e60d1c32blevel0_row1\" class=\"row_heading level0 row1\" >gate_40</th>\n",
       "                        <td id=\"T_edb3600c_d4e4_11eb_85be_a45e60d1c32brow1_col0\" class=\"data row1 col0\" >0.182</td>\n",
       "                        <td id=\"T_edb3600c_d4e4_11eb_85be_a45e60d1c32brow1_col1\" class=\"data row1 col1\" >0.386</td>\n",
       "                        <td id=\"T_edb3600c_d4e4_11eb_85be_a45e60d1c32brow1_col2\" class=\"data row1 col2\" >0.002</td>\n",
       "            </tr>\n",
       "    </tbody></table>"
      ],
      "text/plain": [
       "<pandas.io.formats.style.Styler at 0x7fd0a64d1f40>"
      ]
     },
     "metadata": {},
     "output_type": "display_data"
    },
    {
     "name": "stdout",
     "output_type": "stream",
     "text": [
      "Same conclusion here\n"
     ]
    }
   ],
   "source": [
    "sum_gamerounds = dataset.groupby('version')['sum_gamerounds'].agg([np.mean, std ,sem, np.min, np.max])\n",
    "sum_gamerounds.columns = ['mean', 'std', 'standard error of the mean', 'min', 'max']\n",
    "display(sum_gamerounds.style.format('{:.3f}'))\n",
    "print('The sum_gamerounds looks slightly higher for the version gate 30, however we did not check for outliers yet')\n",
    "\n",
    "retention1 = dataset.groupby('version')['retention_1'].agg([np.mean, std ,sem])\n",
    "retention1.columns = ['mean', 'std', 'standard error of the mean']\n",
    "display(retention1.style.format('{:.3f}'))\n",
    "print('The retention looks slightly higher for the version gate 30, however we did not check for outliers yet')\n",
    "\n",
    "retention7 = dataset.groupby('version')['retention_7'].agg([np.mean, std ,sem])\n",
    "retention7.columns = ['mean', 'std', 'standard error of the mean']\n",
    "display(retention7.style.format('{:.3f}'))\n",
    "print('Same conclusion here')"
   ]
  },
  {
   "cell_type": "code",
   "execution_count": 17,
   "metadata": {},
   "outputs": [
    {
     "data": {
      "image/png": "[encoded data removed]",
      "text/plain": [
       "<Figure size 720x360 with 2 Axes>"
      ]
     },
     "metadata": {
      "needs_background": "light"
     },
     "output_type": "display_data"
    },
    {
     "name": "stdout",
     "output_type": "stream",
     "text": [
      "There's an outlier with a very high value on the gate_30 group which makes us use the log scale in order to see something\n",
      "A part from that, the distributions look very similar at the first glance\n"
     ]
    }
   ],
   "source": [
    "fig, ax = plt.subplots(1,2,figsize=(10,5) )\n",
    "sns.boxplot(data = dataset, x = 'version', y = 'sum_gamerounds', ax = ax[0])\n",
    "sns.kdeplot(data = dataset, x= 'sum_gamerounds', hue='version', shade = True,ax = ax[1])\n",
    "ax[0].set_yscale('log')\n",
    "ax[1].set_xscale('log')\n",
    "plt.show()\n",
    "print(\"There's an outlier with a very high value on the gate_30 group which makes us use the log scale in order to see something\")\n",
    "print('A part from that, the distributions look very similar at the first glance')"
   ]
  },
  {
   "cell_type": "code",
   "execution_count": 19,
   "metadata": {},
   "outputs": [
    {
     "name": "stdout",
     "output_type": "stream",
     "text": [
      "\n",
      "There are many way to remove outliers, generally we use the zscore method but to make it work the data has to follow a normal distribution. Is it the case ?\n",
      "\n"
     ]
    }
   ],
   "source": [
    "verbatim = '''\n",
    "There are many way to remove outliers, generally we use the zscore method but to make it work the data has to follow a normal distribution. Is it the case ?\n",
    "'''\n",
    "print(verbatim)"
   ]
  },
  {
   "cell_type": "markdown",
   "metadata": {},
   "source": [
    "# Normality Test"
   ]
  },
  {
   "cell_type": "markdown",
   "metadata": {},
   "source": [
    "## Quantile Quantile Plot"
   ]
  },
  {
   "cell_type": "code",
   "execution_count": 37,
   "metadata": {},
   "outputs": [
    {
     "data": {
      "image/png": "[encoded data removed]",
      "text/plain": [
       "<Figure size 720x360 with 2 Axes>"
      ]
     },
     "metadata": {
      "needs_background": "light"
     },
     "output_type": "display_data"
    },
    {
     "name": "stdout",
     "output_type": "stream",
     "text": [
      "it doesn't look normal\n"
     ]
    }
   ],
   "source": [
    "A = dataset[dataset['version'] == \"gate_30\"]['sum_gamerounds']\n",
    "B = dataset[dataset['version'] == \"gate_40\"]['sum_gamerounds']\n",
    "\n",
    "fig, ax = plt.subplots(1,2, figsize=(10,5))\n",
    "stats.probplot(A, plot=ax[0])\n",
    "stats.probplot(B, plot=ax[1])\n",
    "plt.show()\n",
    "print(\"it doesn't look normal\")"
   ]
  },
  {
   "cell_type": "markdown",
   "metadata": {},
   "source": [
    "## D’Agostino and Pearson’s Test"
   ]
  },
  {
   "cell_type": "code",
   "execution_count": 42,
   "metadata": {},
   "outputs": [
    {
     "name": "stdout",
     "output_type": "stream",
     "text": [
      "Null hypothesis : Distribution is Normal\n",
      "pvalues < alpha so the null hypothesis can be rejected, the data doesn't come from a normal distribution\n"
     ]
    }
   ],
   "source": [
    "_, pvalue1 = stats.normaltest(A)\n",
    "_, pvalue2 = stats.normaltest(B)\n",
    "pvalue1, pvalue2\n",
    "print('Null hypothesis : Distribution is Normal')\n",
    "print(\"pvalues < alpha so the null hypothesis can be rejected, the data doesn't come from a normal distribution\")"
   ]
  },
  {
   "cell_type": "markdown",
   "metadata": {},
   "source": [
    "# Removing Outliers"
   ]
  },
  {
   "cell_type": "code",
   "execution_count": 43,
   "metadata": {},
   "outputs": [],
   "source": [
    "def remove_outliers(df, col_name):\n",
    "    before = len(df)\n",
    "    Q1 = df[col_name].quantile(0.25)\n",
    "    Q3 = df[col_name].quantile(0.75)\n",
    "    IQR = Q3 - Q1    #IQR is interquartile range. \n",
    "\n",
    "    filter = (df[col_name] >= Q1 - 1.5 * IQR) & (df[col_name] <= Q3 + 1.5 *IQR)\n",
    "    new_df = df.loc[filter]  \n",
    "    after = (len(new_df))\n",
    "    print(before-after,'lines were removed')\n",
    "    return new_df\n",
    "\n",
    "\n"
   ]
  },
  {
   "cell_type": "code",
   "execution_count": 44,
   "metadata": {},
   "outputs": [
    {
     "name": "stdout",
     "output_type": "stream",
     "text": [
      "We decide to remove outliers with the boxplot definition as the data does not seem to follow a normal distribution\n"
     ]
    }
   ],
   "source": [
    "print('We decide to remove outliers with the boxplot definition as the data does not seem to follow a normal distribution')\n"
   ]
  },
  {
   "cell_type": "code",
   "execution_count": 45,
   "metadata": {},
   "outputs": [
    {
     "name": "stdout",
     "output_type": "stream",
     "text": [
      "5207 lines were removed\n",
      "5018 lines were removed\n"
     ]
    }
   ],
   "source": [
    "df_gate_30 = dataset.loc[dataset['version']=='gate_30']\n",
    "df_gate_40 = dataset.loc[dataset['version']=='gate_40']\n",
    "\n",
    "#remove outliers\n",
    "df_gate_30 = remove_outliers(df_gate_30, 'sum_gamerounds')\n",
    "df_gate_40 = remove_outliers(df_gate_40, 'sum_gamerounds')\n",
    "\n",
    "#creating a new df\n",
    "new_df = pd.concat([df_gate_30, df_gate_40], axis = 0)"
   ]
  },
  {
   "cell_type": "code",
   "execution_count": 46,
   "metadata": {},
   "outputs": [
    {
     "data": {
      "text/plain": [
       "gate_40    40471\n",
       "gate_30    39493\n",
       "Name: version, dtype: int64"
      ]
     },
     "execution_count": 46,
     "metadata": {},
     "output_type": "execute_result"
    }
   ],
   "source": [
    "new_df['version'].value_counts()"
   ]
  },
  {
   "cell_type": "code",
   "execution_count": 47,
   "metadata": {},
   "outputs": [
    {
     "data": {
      "image/png": "[encoded data removed]",
      "text/plain": [
       "<Figure size 720x360 with 2 Axes>"
      ]
     },
     "metadata": {
      "needs_background": "light"
     },
     "output_type": "display_data"
    },
    {
     "name": "stdout",
     "output_type": "stream",
     "text": [
      "Here is what the distributions look like after removing outliers\n"
     ]
    }
   ],
   "source": [
    "fig, ax = plt.subplots(1,2,figsize=(10,5) )\n",
    "sns.boxplot(data = new_df, x = 'version', y = 'sum_gamerounds', ax = ax[0])\n",
    "sns.kdeplot(data = new_df, x= 'sum_gamerounds', hue='version', shade = True,ax = ax[1])\n",
    "ax[0].set_yscale('log')\n",
    "plt.show()\n",
    "print('Here is what the distributions look like after removing outliers')"
   ]
  },
  {
   "cell_type": "code",
   "execution_count": 48,
   "metadata": {},
   "outputs": [
    {
     "data": {
      "text/html": [
       "<style  type=\"text/css\" >\n",
       "</style><table id=\"T_83383c36_d4e7_11eb_85be_a45e60d1c32b\" ><thead>    <tr>        <th class=\"blank level0\" ></th>        <th class=\"col_heading level0 col0\" >mean</th>        <th class=\"col_heading level0 col1\" >std</th>        <th class=\"col_heading level0 col2\" >standard error of the mean</th>        <th class=\"col_heading level0 col3\" >min</th>        <th class=\"col_heading level0 col4\" >max</th>    </tr>    <tr>        <th class=\"index_name level0\" >version</th>        <th class=\"blank\" ></th>        <th class=\"blank\" ></th>        <th class=\"blank\" ></th>        <th class=\"blank\" ></th>        <th class=\"blank\" ></th>    </tr></thead><tbody>\n",
       "                <tr>\n",
       "                        <th id=\"T_83383c36_d4e7_11eb_85be_a45e60d1c32blevel0_row0\" class=\"row_heading level0 row0\" >gate_30</th>\n",
       "                        <td id=\"T_83383c36_d4e7_11eb_85be_a45e60d1c32brow0_col0\" class=\"data row0 col0\" >23.597</td>\n",
       "                        <td id=\"T_83383c36_d4e7_11eb_85be_a45e60d1c32brow0_col1\" class=\"data row0 col1\" >26.585</td>\n",
       "                        <td id=\"T_83383c36_d4e7_11eb_85be_a45e60d1c32brow0_col2\" class=\"data row0 col2\" >0.134</td>\n",
       "                        <td id=\"T_83383c36_d4e7_11eb_85be_a45e60d1c32brow0_col3\" class=\"data row0 col3\" >0.000</td>\n",
       "                        <td id=\"T_83383c36_d4e7_11eb_85be_a45e60d1c32brow0_col4\" class=\"data row0 col4\" >117.000</td>\n",
       "            </tr>\n",
       "            <tr>\n",
       "                        <th id=\"T_83383c36_d4e7_11eb_85be_a45e60d1c32blevel0_row1\" class=\"row_heading level0 row1\" >gate_40</th>\n",
       "                        <td id=\"T_83383c36_d4e7_11eb_85be_a45e60d1c32brow1_col0\" class=\"data row1 col0\" >24.246</td>\n",
       "                        <td id=\"T_83383c36_d4e7_11eb_85be_a45e60d1c32brow1_col1\" class=\"data row1 col1\" >28.173</td>\n",
       "                        <td id=\"T_83383c36_d4e7_11eb_85be_a45e60d1c32brow1_col2\" class=\"data row1 col2\" >0.140</td>\n",
       "                        <td id=\"T_83383c36_d4e7_11eb_85be_a45e60d1c32brow1_col3\" class=\"data row1 col3\" >0.000</td>\n",
       "                        <td id=\"T_83383c36_d4e7_11eb_85be_a45e60d1c32brow1_col4\" class=\"data row1 col4\" >122.000</td>\n",
       "            </tr>\n",
       "    </tbody></table>"
      ],
      "text/plain": [
       "<pandas.io.formats.style.Styler at 0x7fd0aa482e50>"
      ]
     },
     "metadata": {},
     "output_type": "display_data"
    },
    {
     "name": "stdout",
     "output_type": "stream",
     "text": [
      "After removing outliers it seems that the gate_40 version does have an edge on the gate_30 version on the sum_gamerounds department\n",
      "also the mean seems to have less variability for the gate_30 version\n"
     ]
    },
    {
     "data": {
      "text/html": [
       "<style  type=\"text/css\" >\n",
       "</style><table id=\"T_83431926_d4e7_11eb_85be_a45e60d1c32b\" ><thead>    <tr>        <th class=\"blank level0\" ></th>        <th class=\"col_heading level0 col0\" >mean</th>        <th class=\"col_heading level0 col1\" >std</th>        <th class=\"col_heading level0 col2\" >standard error of the mean</th>    </tr>    <tr>        <th class=\"index_name level0\" >version</th>        <th class=\"blank\" ></th>        <th class=\"blank\" ></th>        <th class=\"blank\" ></th>    </tr></thead><tbody>\n",
       "                <tr>\n",
       "                        <th id=\"T_83431926_d4e7_11eb_85be_a45e60d1c32blevel0_row0\" class=\"row_heading level0 row0\" >gate_30</th>\n",
       "                        <td id=\"T_83431926_d4e7_11eb_85be_a45e60d1c32brow0_col0\" class=\"data row0 col0\" >0.387</td>\n",
       "                        <td id=\"T_83431926_d4e7_11eb_85be_a45e60d1c32brow0_col1\" class=\"data row0 col1\" >0.487</td>\n",
       "                        <td id=\"T_83431926_d4e7_11eb_85be_a45e60d1c32brow0_col2\" class=\"data row0 col2\" >0.002</td>\n",
       "            </tr>\n",
       "            <tr>\n",
       "                        <th id=\"T_83431926_d4e7_11eb_85be_a45e60d1c32blevel0_row1\" class=\"row_heading level0 row1\" >gate_40</th>\n",
       "                        <td id=\"T_83431926_d4e7_11eb_85be_a45e60d1c32brow1_col0\" class=\"data row1 col0\" >0.384</td>\n",
       "                        <td id=\"T_83431926_d4e7_11eb_85be_a45e60d1c32brow1_col1\" class=\"data row1 col1\" >0.486</td>\n",
       "                        <td id=\"T_83431926_d4e7_11eb_85be_a45e60d1c32brow1_col2\" class=\"data row1 col2\" >0.002</td>\n",
       "            </tr>\n",
       "    </tbody></table>"
      ],
      "text/plain": [
       "<pandas.io.formats.style.Styler at 0x7fd0a937aca0>"
      ]
     },
     "metadata": {},
     "output_type": "display_data"
    },
    {
     "name": "stdout",
     "output_type": "stream",
     "text": [
      "After removing outliers retention_1 looks better on the gate_30 version, is it significant ?\n"
     ]
    },
    {
     "data": {
      "text/html": [
       "<style  type=\"text/css\" >\n",
       "</style><table id=\"T_8348bc8c_d4e7_11eb_85be_a45e60d1c32b\" ><thead>    <tr>        <th class=\"blank level0\" ></th>        <th class=\"col_heading level0 col0\" >mean</th>        <th class=\"col_heading level0 col1\" >std</th>        <th class=\"col_heading level0 col2\" >standard error of the mean</th>    </tr>    <tr>        <th class=\"index_name level0\" >version</th>        <th class=\"blank\" ></th>        <th class=\"blank\" ></th>        <th class=\"blank\" ></th>    </tr></thead><tbody>\n",
       "                <tr>\n",
       "                        <th id=\"T_8348bc8c_d4e7_11eb_85be_a45e60d1c32blevel0_row0\" class=\"row_heading level0 row0\" >gate_30</th>\n",
       "                        <td id=\"T_8348bc8c_d4e7_11eb_85be_a45e60d1c32brow0_col0\" class=\"data row0 col0\" >0.117</td>\n",
       "                        <td id=\"T_8348bc8c_d4e7_11eb_85be_a45e60d1c32brow0_col1\" class=\"data row0 col1\" >0.321</td>\n",
       "                        <td id=\"T_8348bc8c_d4e7_11eb_85be_a45e60d1c32brow0_col2\" class=\"data row0 col2\" >0.002</td>\n",
       "            </tr>\n",
       "            <tr>\n",
       "                        <th id=\"T_8348bc8c_d4e7_11eb_85be_a45e60d1c32blevel0_row1\" class=\"row_heading level0 row1\" >gate_40</th>\n",
       "                        <td id=\"T_8348bc8c_d4e7_11eb_85be_a45e60d1c32brow1_col0\" class=\"data row1 col0\" >0.111</td>\n",
       "                        <td id=\"T_8348bc8c_d4e7_11eb_85be_a45e60d1c32brow1_col1\" class=\"data row1 col1\" >0.314</td>\n",
       "                        <td id=\"T_8348bc8c_d4e7_11eb_85be_a45e60d1c32brow1_col2\" class=\"data row1 col2\" >0.002</td>\n",
       "            </tr>\n",
       "    </tbody></table>"
      ],
      "text/plain": [
       "<pandas.io.formats.style.Styler at 0x7fd0a94dbb50>"
      ]
     },
     "metadata": {},
     "output_type": "display_data"
    },
    {
     "name": "stdout",
     "output_type": "stream",
     "text": [
      "After removing outliers retention_7 looks better on the gate_30 version, is it significant ?\n"
     ]
    }
   ],
   "source": [
    "sum_gamerounds = new_df.groupby('version')['sum_gamerounds'].agg([np.mean, std ,sem, np.min, np.max])\n",
    "sum_gamerounds.columns = ['mean', 'std', 'standard error of the mean', 'min', 'max']\n",
    "display(sum_gamerounds.style.format('{:.3f}'))\n",
    "print('After removing outliers it seems that the gate_40 version does have an edge on the gate_30 version on the sum_gamerounds department')\n",
    "print('also the mean seems to have less variability for the gate_30 version')\n",
    "\n",
    "retention1 = new_df.groupby('version')['retention_1'].agg([np.mean, std ,sem])\n",
    "retention1.columns = ['mean', 'std', 'standard error of the mean']\n",
    "display(retention1.style.format('{:.3f}'))\n",
    "print('After removing outliers retention_1 looks better on the gate_30 version, is it significant ?')\n",
    "\n",
    "retention7 = new_df.groupby('version')['retention_7'].agg([np.mean, std ,sem])\n",
    "retention7.columns = ['mean', 'std', 'standard error of the mean']\n",
    "display(retention7.style.format('{:.3f}'))\n",
    "print('After removing outliers retention_7 looks better on the gate_30 version, is it significant ?')"
   ]
  },
  {
   "cell_type": "markdown",
   "metadata": {},
   "source": [
    "# Hypothesis Testing"
   ]
  },
  {
   "cell_type": "markdown",
   "metadata": {},
   "source": [
    "* Null Hypothesis - H0: means are the same on both version\n",
    "* Alternative Hypothesis - H1 : means are different\n",
    "* We want a two-sided test\n",
    "* Thresold α: 0.05"
   ]
  },
  {
   "cell_type": "code",
   "execution_count": 50,
   "metadata": {},
   "outputs": [],
   "source": [
    "alpha = 0.05"
   ]
  },
  {
   "cell_type": "markdown",
   "metadata": {},
   "source": [
    "## 1 - Testing `sum_gamerounds`"
   ]
  },
  {
   "cell_type": "code",
   "execution_count": 51,
   "metadata": {},
   "outputs": [
    {
     "name": "stdout",
     "output_type": "stream",
     "text": [
      "tstat =  3.35\n",
      "pvalue < alpha :  True , so we fail to reject the null hypothesis\n",
      "which means that there is statistical significance of sum_gamerounds mean being higher on the gate_40 version\n"
     ]
    }
   ],
   "source": [
    "#The central limit theorem ensured that the distribution of the mean is normally distributed\n",
    "#and the samples we use are way higher than n = 30\n",
    "#So we can use the T-test\n",
    "\n",
    "from statsmodels.stats.weightstats import ttest_ind\n",
    "tstat, pvalue, ddf = ttest_ind(\n",
    "    df_gate_40['sum_gamerounds'], df_gate_30['sum_gamerounds'],\n",
    "    alternative='two-sided',\n",
    "    usevar='pooled',\n",
    "    weights=(None, None), value=0\n",
    "    )\n",
    "\n",
    "print('tstat = ',round(tstat,2))\n",
    "print('pvalue < alpha : ', pvalue < alpha, ', so we fail to reject the null hypothesis')\n",
    "print('which means that there is statistical significance of sum_gamerounds mean being higher on the gate_40 version')"
   ]
  },
  {
   "cell_type": "markdown",
   "metadata": {},
   "source": [
    "## 2 - Testing `retention_1`"
   ]
  },
  {
   "cell_type": "code",
   "execution_count": 80,
   "metadata": {},
   "outputs": [
    {
     "name": "stdout",
     "output_type": "stream",
     "text": [
      "0.382\n",
      "pval<alpha : False\n",
      "We cannot reject H0: there is no statistical significance of a difference in retention_1 between the two versions\n"
     ]
    }
   ],
   "source": [
    "col_to_test = 'retention_1'\n",
    "count = np.array([df_gate_40[col_to_test].sum(), df_gate_30[col_to_test].sum()])\n",
    "nobs = np.array([df_gate_40[col_to_test].count(), df_gate_30[col_to_test].count()])\n",
    "stat, pval = proportions_ztest(count, nobs, alternative = 'two-sided')\n",
    "print('{0:0.3f}'.format(pval))\n",
    "print('pval<alpha :',pval < alpha)\n",
    "print(\"We cannot reject H0: there is no statistical significance of a difference in retention_1 between the two versions\")"
   ]
  },
  {
   "cell_type": "markdown",
   "metadata": {},
   "source": [
    "## 3 - Testing `retention_7`"
   ]
  },
  {
   "cell_type": "code",
   "execution_count": 84,
   "metadata": {},
   "outputs": [
    {
     "name": "stdout",
     "output_type": "stream",
     "text": [
      "0.011\n",
      "pval<alpha : True\n",
      "there is statistical significance, retention_7 is higher in version gate 30\n"
     ]
    }
   ],
   "source": [
    "col_to_test = 'retention_7'\n",
    "count = np.array([df_gate_40[col_to_test].sum(), df_gate_30[col_to_test].sum()])\n",
    "nobs = np.array([df_gate_40[col_to_test].count(), df_gate_30[col_to_test].count()])\n",
    "stat, pval = proportions_ztest(count, nobs, alternative='two-sided')\n",
    "print('{0:0.3f}'.format(pval))\n",
    "print('pval<alpha :',pval < alpha)\n",
    "print('there is statistical significance, retention_7 is higher in version gate 30')"
   ]
  },
  {
   "cell_type": "markdown",
   "metadata": {},
   "source": [
    "# Conclusion"
   ]
  },
  {
   "cell_type": "markdown",
   "metadata": {},
   "source": [
    "The result tell us that there is strong evidence that 7-day retention is higher when the gate is at level 30 than when it is at level 40 while 1-day retention remains more or less the same. On the mean time, `sum_gamerounds` is slightly higher on the version gate_40. We have to wonder what is better on a business point of view: better retention on the long term or a higher `sum_gamerounds`. Either way, if we want to keep retention high — we should not move the gate from level 30 to level 40. "
   ]
  },
  {
   "cell_type": "markdown",
   "metadata": {},
   "source": []
  }
 ],
 "metadata": {
  "interpreter": {
   "hash": "da74329ee44caaaadc2241bd9bf0ad7b3fcbcbcee1ead6b0df9ee9878505f847"
  },
  "kernelspec": {
   "display_name": "Python 3.8.5 64-bit ('base': conda)",
   "name": "python3"
  },
  "language_info": {
   "codemirror_mode": {
    "name": "ipython",
    "version": 3
   },
   "file_extension": ".py",
   "mimetype": "text/x-python",
   "name": "python",
   "nbconvert_exporter": "python",
   "pygments_lexer": "ipython3",
   "version": "3.8.5"
  },
  "orig_nbformat": 4
 },
 "nbformat": 4,
 "nbformat_minor": 2
}